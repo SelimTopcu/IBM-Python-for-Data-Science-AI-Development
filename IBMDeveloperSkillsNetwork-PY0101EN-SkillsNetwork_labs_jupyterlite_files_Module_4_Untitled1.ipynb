{
  "metadata": {
    "language_info": {
      "codemirror_mode": {
        "name": "python",
        "version": 3
      },
      "file_extension": ".py",
      "mimetype": "text/x-python",
      "name": "python",
      "nbconvert_exporter": "python",
      "pygments_lexer": "ipython3",
      "version": "3.8"
    },
    "kernelspec": {
      "name": "python",
      "display_name": "Python (Pyodide)",
      "language": "python"
    }
  },
  "nbformat_minor": 4,
  "nbformat": 4,
  "cells": [
    {
      "cell_type": "markdown",
      "source": "# Exercise \nYour local university's Raptors fan club maintains a register of its active members on a .txt document. Every month they update the file by removing the members who are not active. You have been tasked with automating this with your Python skills.\nGiven the file currentMem, Remove each member with a 'no' in their Active column. Keep track of each of the removed members and append them to the exMem file. Make sure that the format of the original files in preserved. (Hint: Do this by reading/writing whole lines and ensuring the header remains )\nRun the code block below prior to starting the exercise. The skeleton code has been provided for you. Edit only the cleanFiles function.",
      "metadata": {}
    },
    {
      "cell_type": "code",
      "source": "#Run this prior to starting the exercise\nfrom random import randint as rnd\n\nmemReg = '/members.txt'\nexReg = '/inactive.txt'\nfee =('yes','no')\n\ndef genFiles(current,old):\n    with open(current,'w+') as writefile: \n        writefile.write('Membership No  Date Joined  Active  \\n')\n        data = \"{:^13}  {:<11}  {:<6}\\n\"\n\n        for rowno in range(20):\n            date = str(rnd(2015,2020))+ '-' + str(rnd(1,12))+'-'+str(rnd(1,25))\n            writefile.write(data.format(rnd(10000,99999),date,fee[rnd(0,1)]))\n\n\n    with open(old,'w+') as writefile: \n        writefile.write('Membership No  Date Joined  Active  \\n')\n        data = \"{:^13}  {:<11}  {:<6}\\n\"\n        for rowno in range(3):\n            date = str(rnd(2015,2020))+ '-' + str(rnd(1,12))+'-'+str(rnd(1,25))\n            writefile.write(data.format(rnd(10000,99999),date,fee[1]))\n\n\ngenFiles(memReg,exReg)",
      "metadata": {
        "trusted": true
      },
      "execution_count": 71,
      "outputs": []
    },
    {
      "cell_type": "code",
      "source": "headers = \"Membership No  Date Joined  Active  \\n\"\nwith open('/members.txt', 'r') as testfile:\n    print(\"Active Members: \\n\")\n    print(testfile.read())\n    \nwith open('/inactive.txt', 'r') as test1file:\n    print(\"Inactive Members: \\n\")\n    print(test1file.read())",
      "metadata": {
        "trusted": true
      },
      "execution_count": 72,
      "outputs": [
        {
          "name": "stdout",
          "text": "Active Members: \n\nMembership No  Date Joined  Active  \n    64064      2020-9-6     yes   \n    83283      2015-12-20   no    \n    55995      2015-6-18    no    \n    65077      2018-9-23    no    \n    57231      2017-5-16    yes   \n    93446      2015-9-15    yes   \n    99756      2019-1-21    yes   \n    60617      2019-3-25    no    \n    84129      2015-9-16    no    \n    36120      2020-11-16   yes   \n    11806      2019-10-5    yes   \n    63834      2018-5-12    no    \n    97846      2020-12-3    yes   \n    71192      2018-1-8     yes   \n    95638      2018-5-17    no    \n    53588      2017-2-9     no    \n    27909      2019-4-17    no    \n    55215      2018-4-17    no    \n    71222      2019-9-22    yes   \n    23761      2018-11-17   no    \n\nInactive Members: \n\nMembership No  Date Joined  Active  \n    15726      2017-11-25   no    \n    94183      2017-5-19    no    \n    11170      2019-10-21   no    \n\n",
          "output_type": "stream"
        }
      ]
    },
    {
      "cell_type": "code",
      "source": "def cleanFiles(currentMem,exMem):\n    with open(currentMem,'r+') as writeFile: \n        with open(exMem,'a+') as appendFile:\n            #get the data\n            writeFile.seek(0)\n            members = writeFile.readlines()\n            #remove header\n            header = members[0]\n            members.pop(0)\n                \n            inactive = [member for member in members if ('no' in member)]\n            '''\n            The above is the same as \n\n            for member in members:\n            if 'no' in member:\n                inactive.append(member)\n            '''\n            #go to the beginning of the write file\n            writeFile.seek(0) \n            writeFile.write(header)\n            for member in members:\n                if (member in inactive):\n                    appendFile.write(member)\n                else:\n                    writeFile.write(member)      \n            writeFile.truncate()\n                                \nmemReg = '/members.txt'\nexReg = '/inactive.txt'\ncleanFiles(memReg,exReg)",
      "metadata": {
        "trusted": true
      },
      "execution_count": 67,
      "outputs": []
    },
    {
      "cell_type": "code",
      "source": "# code to help you see the files\n\nheaders = \"Membership No  Date Joined  Active  \\n\"\n\nwith open(memReg,'r') as readFile:\n    print(\"Active Members: \\n\\n\")\n    print(readFile.read())\n    \nwith open(exReg,'r') as readFile:\n    print(\"Inactive Members: \\n\\n\")\n    print(readFile.read())",
      "metadata": {
        "trusted": true
      },
      "execution_count": 68,
      "outputs": [
        {
          "name": "stdout",
          "text": "Active Members: \n\n\nMembership No  Date Joined  Active  \n    56358      2015-5-23    yes   \n    71727      2015-9-25    yes   \n    14329      2015-1-14    yes   \n    72816      2016-8-2     yes   \n    78533      2018-4-6     yes   \n    49962      2018-7-23    yes   \n    36033      2016-3-14    yes   \n    32980      2015-3-1     yes   \n    25353      2017-9-24    yes   \n    27029      2016-9-19    yes   \n    58684      2017-3-13    yes   \n    73807      2019-5-22    yes   \n    49295      2015-7-15    yes   \n    25388      2020-1-2     yes   \n\nInactive Members: \n\n\nMembership No  Date Joined  Active  \n    39663      2019-11-22   no    \n    79167      2020-5-9     no    \n    20193      2016-12-20   no    \n    13573      2020-1-10    no    \n    64775      2019-10-1    no    \n    70940      2017-1-19    no    \n    11003      2020-1-9     no    \n    92289      2015-9-10    no    \n    26311      2015-5-14    no    \n\n",
          "output_type": "stream"
        }
      ]
    },
    {
      "cell_type": "code",
      "source": "",
      "metadata": {
        "trusted": true
      },
      "execution_count": null,
      "outputs": []
    },
    {
      "cell_type": "code",
      "source": "",
      "metadata": {},
      "execution_count": null,
      "outputs": []
    }
  ]
}